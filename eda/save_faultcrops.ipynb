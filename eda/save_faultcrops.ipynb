{
 "cells": [
  {
   "cell_type": "code",
   "execution_count": 1,
   "metadata": {},
   "outputs": [],
   "source": [
    "import numpy as np\n",
    "import pandas as pd\n",
    "import cv2\n",
    "import matplotlib.pyplot as plt\n",
    "import time\n",
    "\n",
    "%matplotlib inline\n",
    "\n",
    "datapath = '../data/'\n",
    "nbr_df = pd.read_pickle(datapath + 'nonBlackRegion.pkl')\n",
    "train_df = pd.read_csv(datapath + 'train.csv')\n",
    "img_path = datapath + 'train_images/'"
   ]
  },
  {
   "cell_type": "code",
   "execution_count": 2,
   "metadata": {},
   "outputs": [],
   "source": [
    "train_df['ImageId'] = train_df['ImageId_ClassId'].apply(lambda x: x.split('_')[0])\n",
    "train_df['ClassId'] = train_df['ImageId_ClassId'].apply(lambda x: x.split('_')[1])\n",
    "train_df['hasMask'] = ~ train_df['EncodedPixels'].isna()"
   ]
  },
  {
   "cell_type": "code",
   "execution_count": 3,
   "metadata": {},
   "outputs": [],
   "source": [
    "def rle2mask(mask_rle, shape=(256,1600)):\n",
    "    '''\n",
    "    mask_rle: run-length as string formated (start length)\n",
    "    shape: (width,height) of array to return \n",
    "    Returns numpy array, 1 - mask, 0 - background\n",
    "\n",
    "    '''\n",
    "    s = mask_rle.split()\n",
    "    starts, lengths = [np.asarray(x, dtype=int) for x in (s[0:][::2], s[1:][::2])]\n",
    "    starts -= 1\n",
    "    ends = starts + lengths\n",
    "    img = np.zeros(shape[0]*shape[1], dtype=np.uint8)\n",
    "    for lo, hi in zip(starts, ends):\n",
    "        img[lo:hi] = 1\n",
    "    return img.reshape(shape).T\n",
    "\n",
    "def build_masks(rles, input_shape, background=True):\n",
    "    depth = len(rles)\n",
    "    if background:\n",
    "        depth += 1\n",
    "    height, width = input_shape\n",
    "    masks = np.zeros((height, width, depth))\n",
    "    \n",
    "    for i, rle in enumerate(rles):\n",
    "        if type(rle) is str:\n",
    "            masks[:, :, i] = rle2mask(rle, (width, height))\n",
    "            \n",
    "    if background:\n",
    "        masks[:,:,-1] = np.logical_not(np.logical_or.reduce(masks, axis=-1))\n",
    "    \n",
    "    return masks"
   ]
  },
  {
   "cell_type": "code",
   "execution_count": 4,
   "metadata": {},
   "outputs": [
    {
     "data": {
      "text/html": [
       "<div>\n",
       "<style scoped>\n",
       "    .dataframe tbody tr th:only-of-type {\n",
       "        vertical-align: middle;\n",
       "    }\n",
       "\n",
       "    .dataframe tbody tr th {\n",
       "        vertical-align: top;\n",
       "    }\n",
       "\n",
       "    .dataframe thead th {\n",
       "        text-align: right;\n",
       "    }\n",
       "</style>\n",
       "<table border=\"1\" class=\"dataframe\">\n",
       "  <thead>\n",
       "    <tr style=\"text-align: right;\">\n",
       "      <th></th>\n",
       "      <th>ImageId</th>\n",
       "      <th>hasMask</th>\n",
       "      <th>nonBlackRegion</th>\n",
       "    </tr>\n",
       "  </thead>\n",
       "  <tbody>\n",
       "    <tr>\n",
       "      <td>10803</td>\n",
       "      <td>db4867ee8.jpg</td>\n",
       "      <td>3.0</td>\n",
       "      <td>[0, 1536]</td>\n",
       "    </tr>\n",
       "    <tr>\n",
       "      <td>11776</td>\n",
       "      <td>ef24da2ba.jpg</td>\n",
       "      <td>3.0</td>\n",
       "      <td>[0, 1504]</td>\n",
       "    </tr>\n",
       "    <tr>\n",
       "      <td>6284</td>\n",
       "      <td>7f30b9c64.jpg</td>\n",
       "      <td>2.0</td>\n",
       "      <td>[0, 1600]</td>\n",
       "    </tr>\n",
       "    <tr>\n",
       "      <td>9421</td>\n",
       "      <td>bf0c81db6.jpg</td>\n",
       "      <td>2.0</td>\n",
       "      <td>[0, 1600]</td>\n",
       "    </tr>\n",
       "    <tr>\n",
       "      <td>9615</td>\n",
       "      <td>c314f43f3.jpg</td>\n",
       "      <td>2.0</td>\n",
       "      <td>[96, 1600]</td>\n",
       "    </tr>\n",
       "  </tbody>\n",
       "</table>\n",
       "</div>"
      ],
      "text/plain": [
       "             ImageId  hasMask nonBlackRegion\n",
       "10803  db4867ee8.jpg      3.0      [0, 1536]\n",
       "11776  ef24da2ba.jpg      3.0      [0, 1504]\n",
       "6284   7f30b9c64.jpg      2.0      [0, 1600]\n",
       "9421   bf0c81db6.jpg      2.0      [0, 1600]\n",
       "9615   c314f43f3.jpg      2.0     [96, 1600]"
      ]
     },
     "execution_count": 4,
     "metadata": {},
     "output_type": "execute_result"
    }
   ],
   "source": [
    "nbr_df.head()"
   ]
  },
  {
   "cell_type": "code",
   "execution_count": 6,
   "metadata": {},
   "outputs": [],
   "source": [
    "def wrongblackregion(x):\n",
    "    return x[0] < 0 or x[1] > 1600"
   ]
  },
  {
   "cell_type": "code",
   "execution_count": 7,
   "metadata": {},
   "outputs": [],
   "source": [
    "def faultinblackregion(x):\n",
    "    imname = x['ImageId']\n",
    "    rles = train_df[train_df['ImageId'] == imname]['EncodedPixels']\n",
    "    masks = build_masks(rles, [256, 1600], True)\n",
    "    lineall = np.all(masks[:,:,-1], axis=0)\n",
    "    nbr = x['nonBlackRegion']\n",
    "    if nbr[0] == 0:\n",
    "        br = [nbr[1], 1600]\n",
    "    else:\n",
    "        br = [0, nbr[0]]\n",
    "    return not np.all(lineall[br[0]:br[1]])"
   ]
  },
  {
   "cell_type": "code",
   "execution_count": 9,
   "metadata": {},
   "outputs": [
    {
     "name": "stdout",
     "output_type": "stream",
     "text": [
      "0ae4f8a60.jpg\n"
     ]
    },
    {
     "data": {
      "image/png": "[encoded data removed]",
      "text/plain": [
       "<Figure size 432x288 with 6 Axes>"
      ]
     },
     "metadata": {},
     "output_type": "display_data"
    }
   ],
   "source": [
    "imname = '0ae4f8a60.jpg' #imnames[roll]\n",
    "nbr_img = nbr_df[nbr_df['ImageId'] == imname]['nonBlackRegion'].values[0]\n",
    "print(imname)\n",
    "img = cv2.imread(img_path + imname)\n",
    "rles = train_df[train_df['ImageId'] == imname]['EncodedPixels']\n",
    "masks = build_masks(rles, img.shape[:2], True)\n",
    "plt.subplot(6,1,1)\n",
    "plt.imshow(img)\n",
    "for i in range(5):\n",
    "    plt.subplot(6,1,i+2)\n",
    "    plt.imshow(masks[:,:,i])\n",
    "#roll += 1"
   ]
  },
  {
   "cell_type": "code",
   "execution_count": 36,
   "metadata": {},
   "outputs": [],
   "source": [
    "def faultlocs_dict(x, minw=50, crop=320):\n",
    "    imname = x['ImageId'] \n",
    "    nbr_img = x['nonBlackRegion']\n",
    "    img = cv2.imread(img_path + imname)\n",
    "    rles = train_df[train_df['ImageId'] == imname]['EncodedPixels']\n",
    "    masks = build_masks(rles, img.shape[:2], False)\n",
    "    class_faultlocs = {'nofault': set(np.arange(nbr_img[0], max(nbr_img[0] + 1, nbr_img[1]-crop)))}\n",
    "    nofault = list(rles.isna())\n",
    "    for c in range(4):\n",
    "        fset = set()\n",
    "        faultreg_set=set()\n",
    "        if not nofault[c]:\n",
    "            nlabels, labels, stats, _ = cv2.connectedComponentsWithStats(np.uint8(masks[:,:,c]*255))\n",
    "            for stat in stats:\n",
    "                if np.all(stat[:4] == [0, 0, 1600, 256]):\n",
    "                    continue\n",
    "                ed = min(stat[0] + stat[2], stat[0] + minw)\n",
    "                st = max(stat[0] + 1, stat[0] + stat[2] - minw + 1)\n",
    "                limits = [max(nbr_img[0], ed-crop), min(nbr_img[1], st )]\n",
    "                fault_reg = [max(nbr_img[0], stat[0]-crop - 1), stat[0] + stat[2] + 1]\n",
    "                fset = fset.union(set(np.arange(*limits)))\n",
    "                faultreg_set = faultreg_set.union(set(np.arange(*fault_reg)))\n",
    "        class_faultlocs['fault%i_%i_%i'%(c+1, crop, minw)] = fset\n",
    "        class_faultlocs['nofault'] -= faultreg_set\n",
    "    return class_faultlocs"
   ]
  },
  {
   "cell_type": "code",
   "execution_count": 37,
   "metadata": {
    "scrolled": true
   },
   "outputs": [
    {
     "data": {
      "text/html": [
       "<div>\n",
       "<style scoped>\n",
       "    .dataframe tbody tr th:only-of-type {\n",
       "        vertical-align: middle;\n",
       "    }\n",
       "\n",
       "    .dataframe tbody tr th {\n",
       "        vertical-align: top;\n",
       "    }\n",
       "\n",
       "    .dataframe thead th {\n",
       "        text-align: right;\n",
       "    }\n",
       "</style>\n",
       "<table border=\"1\" class=\"dataframe\">\n",
       "  <thead>\n",
       "    <tr style=\"text-align: right;\">\n",
       "      <th></th>\n",
       "      <th>ImageId</th>\n",
       "      <th>hasMask</th>\n",
       "      <th>nonBlackRegion</th>\n",
       "      <th>faultlocs</th>\n",
       "      <th>nofault</th>\n",
       "      <th>fault1_320_50</th>\n",
       "      <th>fault2_320_50</th>\n",
       "      <th>fault3_320_50</th>\n",
       "      <th>fault4_320_50</th>\n",
       "    </tr>\n",
       "  </thead>\n",
       "  <tbody>\n",
       "    <tr>\n",
       "      <td>1607</td>\n",
       "      <td>1fdef786c.jpg</td>\n",
       "      <td>2.0</td>\n",
       "      <td>[0, 1600]</td>\n",
       "      <td>{'nofault': {187, 188, 189, 190, 191, 192, 193...</td>\n",
       "      <td>[187, 188, 189, 190, 191, 192, 193, 194, 195, ...</td>\n",
       "      <td>[]</td>\n",
       "      <td>[]</td>\n",
       "      <td>[301, 302, 303, 304, 305, 306, 307, 308, 309, ...</td>\n",
       "      <td>[0, 1, 2, 3, 4, 5, 6, 7, 8, 9, 10, 11, 12, 13,...</td>\n",
       "    </tr>\n",
       "  </tbody>\n",
       "</table>\n",
       "</div>"
      ],
      "text/plain": [
       "            ImageId  hasMask nonBlackRegion  \\\n",
       "1607  1fdef786c.jpg      2.0      [0, 1600]   \n",
       "\n",
       "                                              faultlocs  \\\n",
       "1607  {'nofault': {187, 188, 189, 190, 191, 192, 193...   \n",
       "\n",
       "                                                nofault fault1_320_50  \\\n",
       "1607  [187, 188, 189, 190, 191, 192, 193, 194, 195, ...            []   \n",
       "\n",
       "     fault2_320_50                                      fault3_320_50  \\\n",
       "1607            []  [301, 302, 303, 304, 305, 306, 307, 308, 309, ...   \n",
       "\n",
       "                                          fault4_320_50  \n",
       "1607  [0, 1, 2, 3, 4, 5, 6, 7, 8, 9, 10, 11, 12, 13,...  "
      ]
     },
     "execution_count": 37,
     "metadata": {},
     "output_type": "execute_result"
    }
   ],
   "source": [
    "nd = nbr_df.iloc[47:48].copy()\n",
    "nd['faultlocs'] = nd.apply(faultlocs_dict, \"columns\")\n",
    "for key in nd['faultlocs'].iloc[0].keys():\n",
    "    nd[key] = nd['faultlocs'].apply(lambda x: list(x[key]))\n",
    "nd"
   ]
  },
  {
   "cell_type": "code",
   "execution_count": 38,
   "metadata": {},
   "outputs": [
    {
     "name": "stdout",
     "output_type": "stream",
     "text": [
      "423.34759974479675\n"
     ]
    }
   ],
   "source": [
    "tic = time.time()\n",
    "nbr_df['faultlocs'] = nbr_df.apply(faultlocs_dict, \"columns\")\n",
    "print(time.time() - tic)"
   ]
  },
  {
   "cell_type": "code",
   "execution_count": 39,
   "metadata": {},
   "outputs": [],
   "source": [
    "for key in nbr_df['faultlocs'].iloc[0].keys():\n",
    "    nbr_df[key] = nbr_df['faultlocs'].apply(lambda x: list(x[key]))"
   ]
  },
  {
   "cell_type": "code",
   "execution_count": 40,
   "metadata": {},
   "outputs": [],
   "source": [
    "nbr_320crop_df = nbr_df.drop('faultlocs', \"columns\")\n",
    "nbr_320crop_df.to_pickle('nbr_faultlocs_crop320_rounded32.pkl')"
   ]
  }
 ],
 "metadata": {
  "kernelspec": {
   "display_name": "Python 3",
   "language": "python",
   "name": "python3"
  },
  "language_info": {
   "codemirror_mode": {
    "name": "ipython",
    "version": 3
   },
   "file_extension": ".py",
   "mimetype": "text/x-python",
   "name": "python",
   "nbconvert_exporter": "python",
   "pygments_lexer": "ipython3",
   "version": "3.6.2"
  }
 },
 "nbformat": 4,
 "nbformat_minor": 2
}
