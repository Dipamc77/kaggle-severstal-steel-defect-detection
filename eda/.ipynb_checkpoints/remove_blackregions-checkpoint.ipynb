{
 "cells": [
  {
   "cell_type": "code",
   "execution_count": 4,
   "metadata": {},
   "outputs": [
    {
     "data": {
      "text/html": [
       "<div>\n",
       "<style scoped>\n",
       "    .dataframe tbody tr th:only-of-type {\n",
       "        vertical-align: middle;\n",
       "    }\n",
       "\n",
       "    .dataframe tbody tr th {\n",
       "        vertical-align: top;\n",
       "    }\n",
       "\n",
       "    .dataframe thead th {\n",
       "        text-align: right;\n",
       "    }\n",
       "</style>\n",
       "<table border=\"1\" class=\"dataframe\">\n",
       "  <thead>\n",
       "    <tr style=\"text-align: right;\">\n",
       "      <th></th>\n",
       "      <th>ImageId</th>\n",
       "      <th>hasMask</th>\n",
       "    </tr>\n",
       "  </thead>\n",
       "  <tbody>\n",
       "    <tr>\n",
       "      <th>10803</th>\n",
       "      <td>db4867ee8.jpg</td>\n",
       "      <td>3.0</td>\n",
       "    </tr>\n",
       "    <tr>\n",
       "      <th>11776</th>\n",
       "      <td>ef24da2ba.jpg</td>\n",
       "      <td>3.0</td>\n",
       "    </tr>\n",
       "    <tr>\n",
       "      <th>6284</th>\n",
       "      <td>7f30b9c64.jpg</td>\n",
       "      <td>2.0</td>\n",
       "    </tr>\n",
       "    <tr>\n",
       "      <th>9421</th>\n",
       "      <td>bf0c81db6.jpg</td>\n",
       "      <td>2.0</td>\n",
       "    </tr>\n",
       "    <tr>\n",
       "      <th>9615</th>\n",
       "      <td>c314f43f3.jpg</td>\n",
       "      <td>2.0</td>\n",
       "    </tr>\n",
       "  </tbody>\n",
       "</table>\n",
       "</div>"
      ],
      "text/plain": [
       "             ImageId  hasMask\n",
       "10803  db4867ee8.jpg      3.0\n",
       "11776  ef24da2ba.jpg      3.0\n",
       "6284   7f30b9c64.jpg      2.0\n",
       "9421   bf0c81db6.jpg      2.0\n",
       "9615   c314f43f3.jpg      2.0"
      ]
     },
     "execution_count": 4,
     "metadata": {},
     "output_type": "execute_result"
    }
   ],
   "source": [
    "import pandas as pd\n",
    "import numpy as np\n",
    "import cv2\n",
    "import os\n",
    "import time\n",
    "import matplotlib.pyplot as plt\n",
    "%matplotlib inline\n",
    "\n",
    "base_path = '/home/isdgenomics/users/dipamcha/kaggle/severstal-steel-defect-detection/data/'\n",
    "\n",
    "train_df = pd.read_csv(base_path + 'train.csv')\n",
    "train_df['ImageId'] = train_df['ImageId_ClassId'].apply(lambda x: x.split('_')[0])\n",
    "train_df['ClassId'] = train_df['ImageId_ClassId'].apply(lambda x: x.split('_')[1])\n",
    "train_df['hasMask'] = ~ train_df['EncodedPixels'].isna()\n",
    "\n",
    "crop_size = [256, 320]\n",
    "nbr = [20, 30]\n",
    "croplimit = max(nbr[0], nbr[1]-crop_size[1]) + 1\n",
    "\n",
    "masks_df = train_df.groupby('ImageId').agg(np.sum).reset_index()\n",
    "masks_df.sort_values('hasMask', ascending=False, inplace=True)\n",
    "masks_df.head()"
   ]
  },
  {
   "cell_type": "code",
   "execution_count": 5,
   "metadata": {},
   "outputs": [],
   "source": [
    "def findNonBlackRegion(img):\n",
    "    assert len(img.shape) == 2\n",
    "    thd = img < 20\n",
    "    vert = np.int32(np.all(thd, axis=0))\n",
    "    vertshift = vert[:-1] - vert[1:]\n",
    "    if vert[0] == 1: # left side\n",
    "        maxind = img.shape[-1]\n",
    "        minind = np.min(np.where(vertshift==1))\n",
    "        return [minind, maxind], True\n",
    "    elif vert[-1] == 1: # right side\n",
    "        minind = 0\n",
    "        maxind = np.max(np.where(vertshift==-1)) + 1\n",
    "        return [minind, maxind], True\n",
    "    else:\n",
    "        return [0, img.shape[-1]], False\n",
    "    \n",
    "def nonBlackRegion(imgname):\n",
    "    img = cv2.imread(base_path + 'train_images/' + imgname, 0)\n",
    "    nbr, _ = findNonBlackRegion(img)\n",
    "    return nbr"
   ]
  },
  {
   "cell_type": "code",
   "execution_count": 6,
   "metadata": {},
   "outputs": [
    {
     "name": "stdout",
     "output_type": "stream",
     "text": [
      "load time 42.636014s\n"
     ]
    }
   ],
   "source": [
    "tic = time.time()\n",
    "masks_df['nonBlackRegion'] = masks_df['ImageId'].apply(nonBlackRegion)\n",
    "print(\"load time %fs\"%(time.time()-tic)) "
   ]
  },
  {
   "cell_type": "code",
   "execution_count": null,
   "metadata": {},
   "outputs": [],
   "source": [
    "masks_df['nonBlackRegion'].apply(lambda x: abs(int(x.split(' ')[0]) - int(x.split(' ')[1])) < 320).sum()\n",
    "masks_df.to_pickle('nonBlackRegion.pkl')"
   ]
  },
  {
   "cell_type": "code",
   "execution_count": null,
   "metadata": {},
   "outputs": [],
   "source": [
    "sub_df = pd.read_csv(base_path+'sample_submission.csv')\n",
    "sub_df['ImageId'] = sub_df['ImageId_ClassId'].apply(lambda x: x.split('_')[0])\n",
    "test_imgs = pd.DataFrame(sub_df['ImageId'].unique(), columns=['ImageId'])"
   ]
  },
  {
   "cell_type": "code",
   "execution_count": null,
   "metadata": {
    "scrolled": true
   },
   "outputs": [],
   "source": [
    "def nonBlackRegionTest(imgname):\n",
    "    img = cv2.imread(base_path + 'test_images/' + imgname, 0)\n",
    "    nbr, _ = findNonBlackRegion(img)\n",
    "    return str(nbr[0]) + ' ' + str(nbr[1])\n",
    "\n",
    "tic = time.time()\n",
    "test_imgs['nonBlackRegion'] = test_imgs['ImageId'].apply(nonBlackRegionTest)\n",
    "print(\"load time %fs\"%(time.time()-tic)) "
   ]
  },
  {
   "cell_type": "code",
   "execution_count": null,
   "metadata": {},
   "outputs": [],
   "source": [
    "test_nbr = list(test_imgs['nonBlackRegion'].apply(lambda x: abs(int(x.split(' ')[0]) - int(x.split(' ')[1]))))\n",
    "train_nbr = list(masks_df['nonBlackRegion'].apply(lambda x: abs(int(x.split(' ')[0]) - int(x.split(' ')[1]))))"
   ]
  },
  {
   "cell_type": "code",
   "execution_count": null,
   "metadata": {},
   "outputs": [],
   "source": [
    "import seaborn as sns\n",
    "sns.distplot([x for x in test_nbr if x < 1600], kde=False)"
   ]
  },
  {
   "cell_type": "code",
   "execution_count": null,
   "metadata": {},
   "outputs": [],
   "source": [
    "sns.distplot([x for x in train_nbr if x < 1600], kde=False)"
   ]
  },
  {
   "cell_type": "code",
   "execution_count": null,
   "metadata": {},
   "outputs": [],
   "source": [
    "tic = time.time()\n",
    "idx = 0\n",
    "pixels = np.empty(len(train_images)*256*1600, np.uint8)\n",
    "for i in range(len(train_images)):\n",
    "    img = cv2.imread(train_images_path + train_images[i], 0)\n",
    "    nbr, hasblack = [0, 1600], True#findNonBlackRegion(img)\n",
    "    arr = img[:,nbr[0]:nbr[1]].ravel()\n",
    "    minval = np.min(arr)\n",
    "    arrlen = arr.size\n",
    "    pixels[idx:idx+arrlen] = arr\n",
    "    idx = idx + arrlen\n",
    "    #if hasblack:\n",
    "        #plt.imshow(img, cmap='gray')\n",
    "        #plt.pause(0.01)\n",
    "        #print(nonblackregion)\n",
    "    #if i > 100:\n",
    "    #    break\n",
    "    if i %1000 == 0:\n",
    "        print(i)\n",
    "pixels = pixels[:idx]\n",
    "print(\"load time %fs\"%(time.time()-tic)) "
   ]
  },
  {
   "cell_type": "code",
   "execution_count": null,
   "metadata": {},
   "outputs": [],
   "source": [
    "tic = time.time()\n",
    "idx = 0\n",
    "pixels_test = np.empty(len(test_images)*256*1600, np.uint8)\n",
    "for i in range(len(test_images)):\n",
    "    img = cv2.imread(test_images_path + test_images[i], 0)\n",
    "    nbr, hasblack = [0, 1600], True#findNonBlackRegion(img)\n",
    "    arr = img[:,nbr[0]:nbr[1]].ravel()\n",
    "    minval = np.min(arr)\n",
    "    arrlen = arr.size\n",
    "    pixels_test[idx:idx+arrlen] = arr\n",
    "    idx = idx + arrlen\n",
    "    #if hasblack:\n",
    "        #plt.imshow(img, cmap='gray')\n",
    "        #plt.pause(0.01)\n",
    "        #print(nonblackregion)\n",
    "    #if i > 100:\n",
    "    #    break\n",
    "    if i %1000 == 0:\n",
    "        print(i)\n",
    "pixels_test = pixels_test[:idx]\n",
    "print(\"load time %fs\"%(time.time()-tic)) "
   ]
  },
  {
   "cell_type": "code",
   "execution_count": null,
   "metadata": {},
   "outputs": [],
   "source": [
    "tic = time.time()\n",
    "mean_arr = np.mean(pixels)\n",
    "print(\"mean time %fs\"%(time.time()-tic)) \n",
    "print('mean ', mean_arr)\n",
    "\n",
    "tic = time.time()\n",
    "std_arr = np.std(pixels)\n",
    "print(\"std time %fs\"%(time.time()-tic))\n",
    "print(\"std \", std_arr)"
   ]
  },
  {
   "cell_type": "code",
   "execution_count": null,
   "metadata": {},
   "outputs": [],
   "source": [
    "tic = time.time()\n",
    "mean_arr = np.mean(pixels_test)\n",
    "print(\"mean time %fs\"%(time.time()-tic)) \n",
    "print('mean ', mean_arr)\n",
    "\n",
    "tic = time.time()\n",
    "std_arr = np.std(pixels_test)\n",
    "print(\"std time %fs\"%(time.time()-tic))\n",
    "print(\"std \", std_arr)"
   ]
  },
  {
   "cell_type": "code",
   "execution_count": null,
   "metadata": {},
   "outputs": [],
   "source": []
  },
  {
   "cell_type": "code",
   "execution_count": null,
   "metadata": {},
   "outputs": [],
   "source": [
    "import seaborn as sns\n",
    "sns.distplot(pixels[:100000000])"
   ]
  },
  {
   "cell_type": "code",
   "execution_count": null,
   "metadata": {},
   "outputs": [],
   "source": [
    "import seaborn as sns\n",
    "sns.distplot(pixels[200000000:300000000])"
   ]
  },
  {
   "cell_type": "code",
   "execution_count": null,
   "metadata": {},
   "outputs": [],
   "source": [
    "import seaborn as sns\n",
    "sns.distplot(pixels_test[:100000000])"
   ]
  },
  {
   "cell_type": "code",
   "execution_count": null,
   "metadata": {},
   "outputs": [],
   "source": [
    "del pixels"
   ]
  },
  {
   "cell_type": "code",
   "execution_count": null,
   "metadata": {},
   "outputs": [],
   "source": [
    "images_path = '/home/isdgenomics/users/dipamcha/kaggle/severstal-steel-defect-detection/data/test_images/'\n",
    "test_images = [img for img in os.listdir(images_path) if '.jpg' in img]\n",
    "\n",
    "tic = time.time()\n",
    "test_imgs_np = np.empty((len(images), 256, 1600), np.float64)\n",
    "for i in range(len(test_images)):\n",
    "    test_imgs_np[i] = cv2.imread(images_path + test_images[i], 0)/255.\n",
    "print(\"load time %fs\"%(time.time()-tic)) "
   ]
  },
  {
   "cell_type": "code",
   "execution_count": null,
   "metadata": {},
   "outputs": [],
   "source": [
    "joined = np.vstack([imgs_np, test_imgs_np])"
   ]
  },
  {
   "cell_type": "code",
   "execution_count": null,
   "metadata": {},
   "outputs": [],
   "source": [
    "np.mean(joined)"
   ]
  },
  {
   "cell_type": "code",
   "execution_count": null,
   "metadata": {},
   "outputs": [],
   "source": [
    "np.std(joined)"
   ]
  },
  {
   "cell_type": "code",
   "execution_count": null,
   "metadata": {},
   "outputs": [],
   "source": [
    "images_path = '/home/isdgenomics/users/dipamcha/kaggle/severstal-steel-defect-detection/data/test_images/'\n",
    "test_images = [img for img in os.listdir(images_path) if '.jpg' in img]\n",
    "\n",
    "tic = time.time()\n",
    "imgs_np = np.empty((len(images), 256, 1600), np.float64)\n",
    "for i in range(len(images)):\n",
    "    imgs_np[i] = cv2.imread(images_path + images[i], 0)/255.\n",
    "print(\"load time %fs\"%(time.time()-tic)) \n",
    "\n",
    "tic = time.time()\n",
    "mean_arr = np.mean(imgs_np)\n",
    "print(\"mean time %fs\"%(time.time()-tic)) \n",
    "print('mean ', mean_arr)\n",
    "\n",
    "tic = time.time()\n",
    "std_arr = np.std(imgs_np)\n",
    "print(\"std time %fs\"%(time.time()-tic))\n",
    "print(\"std \", std_arr)"
   ]
  },
  {
   "cell_type": "code",
   "execution_count": null,
   "metadata": {},
   "outputs": [],
   "source": [
    "test_images_path = '/home/isdgenomics/users/dipamcha/kaggle/severstal-steel-defect-detection/data/test_images/'\n",
    "test_images = [img for img in os.listdir(test_images_path) if '.jpg' in img]\n",
    "count = 0\n",
    "test_blacklist = []\n",
    "test_nonblackimgs = []\n",
    "for imgname in test_images:\n",
    "    img = cv2.imread(test_images_path + imgname,0)\n",
    "    thd = img < 20\n",
    "    if np.all(thd[:, :30]) or np.all(thd[:, -30:]):\n",
    "        #print(imgname)\n",
    "        #plt.imshow(img,cmap='gray')\n",
    "        #plt.pause(0.01)\n",
    "        #input()\n",
    "        count += 1\n",
    "        test_blacklist.append(imgname)\n",
    "    else:\n",
    "        test_nonblackimgs.append(img/255.)\n",
    "print(count)"
   ]
  },
  {
   "cell_type": "code",
   "execution_count": null,
   "metadata": {},
   "outputs": [],
   "source": [
    "count = 0\n",
    "blacklist = []\n",
    "nonblackimgs = []\n",
    "for imgname in images:\n",
    "    img = cv2.imread(train_images_path + imgname,0)\n",
    "    thd = img < 20\n",
    "    if np.all(thd[:, :30]) or np.all(thd[:, -30:]):\n",
    "        #print(imgname)\n",
    "        #plt.imshow(img,cmap='gray')\n",
    "        #plt.pause(0.01)\n",
    "        #input()\n",
    "        count += 1\n",
    "        blacklist.append(imgname)\n",
    "    else:\n",
    "        nonblackimgs.append(img)\n",
    "print(count)"
   ]
  },
  {
   "cell_type": "code",
   "execution_count": null,
   "metadata": {},
   "outputs": [],
   "source": [
    "np.mean(np.array(nonblackimgs))"
   ]
  },
  {
   "cell_type": "code",
   "execution_count": null,
   "metadata": {},
   "outputs": [],
   "source": [
    "np.mean(np.array(test_nonblackimgs))"
   ]
  },
  {
   "cell_type": "code",
   "execution_count": null,
   "metadata": {},
   "outputs": [],
   "source": [
    "101.30590487340685/255"
   ]
  }
 ],
 "metadata": {
  "kernelspec": {
   "display_name": "Python 3",
   "language": "python",
   "name": "python3"
  },
  "language_info": {
   "codemirror_mode": {
    "name": "ipython",
    "version": 3
   },
   "file_extension": ".py",
   "mimetype": "text/x-python",
   "name": "python",
   "nbconvert_exporter": "python",
   "pygments_lexer": "ipython3",
   "version": "3.6.2"
  }
 },
 "nbformat": 4,
 "nbformat_minor": 2
}
